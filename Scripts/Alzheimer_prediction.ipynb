{
 "cells": [
  {
   "cell_type": "code",
   "execution_count": 1,
   "metadata": {},
   "outputs": [],
   "source": [
    "import sklearn\n",
    "import numpy as np\n",
    "import pandas as pd\n",
    "from sklearn.model_selection import train_test_split\n",
    "from sklearn.ensemble import RandomForestClassifier\n",
    "from sklearn.metrics import accuracy_score\n",
    "from sklearn.preprocessing import StandardScaler"
   ]
  },
  {
   "cell_type": "code",
   "execution_count": 2,
   "metadata": {},
   "outputs": [
    {
     "name": "stdout",
     "output_type": "stream",
     "text": [
      "   Age  Smoking  AlcoholConsumption  FamilyHistoryAlzheimers  HeadInjury  \\\n",
      "0   74        0                   0                        0           0   \n",
      "1   64        1                   0                        1           1   \n",
      "2   86        0                   1                        0           0   \n",
      "3   88        0                   0                        1           0   \n",
      "4   70        0                   0                        0           0   \n",
      "\n",
      "   Confusion  Diagnosis  \n",
      "0          0          0  \n",
      "1          0          1  \n",
      "2          0          1  \n",
      "3          0          1  \n",
      "4          0          0  \n"
     ]
    }
   ],
   "source": [
    "df=pd.read_csv(\"synthetic_alzheimer_dataset.csv\")\n",
    "print(df.head())"
   ]
  },
  {
   "cell_type": "code",
   "execution_count": 3,
   "metadata": {},
   "outputs": [
    {
     "name": "stdout",
     "output_type": "stream",
     "text": [
      "Age                        0\n",
      "Smoking                    0\n",
      "AlcoholConsumption         0\n",
      "FamilyHistoryAlzheimers    0\n",
      "HeadInjury                 0\n",
      "Confusion                  0\n",
      "Diagnosis                  0\n",
      "dtype: int64\n"
     ]
    },
    {
     "data": {
      "text/plain": [
       "(1000, 7)"
      ]
     },
     "execution_count": 3,
     "metadata": {},
     "output_type": "execute_result"
    }
   ],
   "source": [
    "print(df.isnull().sum())\n",
    "df.shape"
   ]
  },
  {
   "cell_type": "code",
   "execution_count": 4,
   "metadata": {},
   "outputs": [
    {
     "name": "stdout",
     "output_type": "stream",
     "text": [
      "<class 'pandas.core.frame.DataFrame'>\n",
      "RangeIndex: 1000 entries, 0 to 999\n",
      "Data columns (total 7 columns):\n",
      " #   Column                   Non-Null Count  Dtype\n",
      "---  ------                   --------------  -----\n",
      " 0   Age                      1000 non-null   int64\n",
      " 1   Smoking                  1000 non-null   int64\n",
      " 2   AlcoholConsumption       1000 non-null   int64\n",
      " 3   FamilyHistoryAlzheimers  1000 non-null   int64\n",
      " 4   HeadInjury               1000 non-null   int64\n",
      " 5   Confusion                1000 non-null   int64\n",
      " 6   Diagnosis                1000 non-null   int64\n",
      "dtypes: int64(7)\n",
      "memory usage: 54.8 KB\n"
     ]
    }
   ],
   "source": [
    "df.info()"
   ]
  },
  {
   "cell_type": "code",
   "execution_count": 5,
   "metadata": {},
   "outputs": [
    {
     "data": {
      "text/html": [
       "<div>\n",
       "<style scoped>\n",
       "    .dataframe tbody tr th:only-of-type {\n",
       "        vertical-align: middle;\n",
       "    }\n",
       "\n",
       "    .dataframe tbody tr th {\n",
       "        vertical-align: top;\n",
       "    }\n",
       "\n",
       "    .dataframe thead th {\n",
       "        text-align: right;\n",
       "    }\n",
       "</style>\n",
       "<table border=\"1\" class=\"dataframe\">\n",
       "  <thead>\n",
       "    <tr style=\"text-align: right;\">\n",
       "      <th></th>\n",
       "      <th>Age</th>\n",
       "      <th>Smoking</th>\n",
       "      <th>AlcoholConsumption</th>\n",
       "      <th>FamilyHistoryAlzheimers</th>\n",
       "      <th>HeadInjury</th>\n",
       "      <th>Confusion</th>\n",
       "      <th>Diagnosis</th>\n",
       "    </tr>\n",
       "  </thead>\n",
       "  <tbody>\n",
       "    <tr>\n",
       "      <th>count</th>\n",
       "      <td>1000.000000</td>\n",
       "      <td>1000.000000</td>\n",
       "      <td>1000.00000</td>\n",
       "      <td>1000.000000</td>\n",
       "      <td>1000.000000</td>\n",
       "      <td>1000.000000</td>\n",
       "      <td>1000.00000</td>\n",
       "    </tr>\n",
       "    <tr>\n",
       "      <th>mean</th>\n",
       "      <td>69.855000</td>\n",
       "      <td>0.310000</td>\n",
       "      <td>0.19300</td>\n",
       "      <td>0.385000</td>\n",
       "      <td>0.144000</td>\n",
       "      <td>0.095000</td>\n",
       "      <td>0.50000</td>\n",
       "    </tr>\n",
       "    <tr>\n",
       "      <th>std</th>\n",
       "      <td>10.126723</td>\n",
       "      <td>0.462725</td>\n",
       "      <td>0.39485</td>\n",
       "      <td>0.486839</td>\n",
       "      <td>0.351265</td>\n",
       "      <td>0.293362</td>\n",
       "      <td>0.50025</td>\n",
       "    </tr>\n",
       "    <tr>\n",
       "      <th>min</th>\n",
       "      <td>36.000000</td>\n",
       "      <td>0.000000</td>\n",
       "      <td>0.00000</td>\n",
       "      <td>0.000000</td>\n",
       "      <td>0.000000</td>\n",
       "      <td>0.000000</td>\n",
       "      <td>0.00000</td>\n",
       "    </tr>\n",
       "    <tr>\n",
       "      <th>25%</th>\n",
       "      <td>63.000000</td>\n",
       "      <td>0.000000</td>\n",
       "      <td>0.00000</td>\n",
       "      <td>0.000000</td>\n",
       "      <td>0.000000</td>\n",
       "      <td>0.000000</td>\n",
       "      <td>0.00000</td>\n",
       "    </tr>\n",
       "    <tr>\n",
       "      <th>50%</th>\n",
       "      <td>70.000000</td>\n",
       "      <td>0.000000</td>\n",
       "      <td>0.00000</td>\n",
       "      <td>0.000000</td>\n",
       "      <td>0.000000</td>\n",
       "      <td>0.000000</td>\n",
       "      <td>0.50000</td>\n",
       "    </tr>\n",
       "    <tr>\n",
       "      <th>75%</th>\n",
       "      <td>77.000000</td>\n",
       "      <td>1.000000</td>\n",
       "      <td>0.00000</td>\n",
       "      <td>1.000000</td>\n",
       "      <td>0.000000</td>\n",
       "      <td>0.000000</td>\n",
       "      <td>1.00000</td>\n",
       "    </tr>\n",
       "    <tr>\n",
       "      <th>max</th>\n",
       "      <td>102.000000</td>\n",
       "      <td>1.000000</td>\n",
       "      <td>1.00000</td>\n",
       "      <td>1.000000</td>\n",
       "      <td>1.000000</td>\n",
       "      <td>1.000000</td>\n",
       "      <td>1.00000</td>\n",
       "    </tr>\n",
       "  </tbody>\n",
       "</table>\n",
       "</div>"
      ],
      "text/plain": [
       "               Age      Smoking  AlcoholConsumption  FamilyHistoryAlzheimers  \\\n",
       "count  1000.000000  1000.000000          1000.00000              1000.000000   \n",
       "mean     69.855000     0.310000             0.19300                 0.385000   \n",
       "std      10.126723     0.462725             0.39485                 0.486839   \n",
       "min      36.000000     0.000000             0.00000                 0.000000   \n",
       "25%      63.000000     0.000000             0.00000                 0.000000   \n",
       "50%      70.000000     0.000000             0.00000                 0.000000   \n",
       "75%      77.000000     1.000000             0.00000                 1.000000   \n",
       "max     102.000000     1.000000             1.00000                 1.000000   \n",
       "\n",
       "        HeadInjury    Confusion   Diagnosis  \n",
       "count  1000.000000  1000.000000  1000.00000  \n",
       "mean      0.144000     0.095000     0.50000  \n",
       "std       0.351265     0.293362     0.50025  \n",
       "min       0.000000     0.000000     0.00000  \n",
       "25%       0.000000     0.000000     0.00000  \n",
       "50%       0.000000     0.000000     0.50000  \n",
       "75%       0.000000     0.000000     1.00000  \n",
       "max       1.000000     1.000000     1.00000  "
      ]
     },
     "execution_count": 5,
     "metadata": {},
     "output_type": "execute_result"
    }
   ],
   "source": [
    "df.describe()"
   ]
  },
  {
   "cell_type": "code",
   "execution_count": 6,
   "metadata": {},
   "outputs": [
    {
     "name": "stdout",
     "output_type": "stream",
     "text": [
      "   Age  Smoking  AlcoholConsumption  FamilyHistoryAlzheimers  HeadInjury  \\\n",
      "0   74        0                   0                        0           0   \n",
      "1   64        1                   0                        1           1   \n",
      "2   86        0                   1                        0           0   \n",
      "3   88        0                   0                        1           0   \n",
      "4   70        0                   0                        0           0   \n",
      "\n",
      "   Confusion  \n",
      "0          0  \n",
      "1          0  \n",
      "2          0  \n",
      "3          0  \n",
      "4          0  \n"
     ]
    }
   ],
   "source": [
    "features=[\"Age\",\"Smoking\",\"AlcoholConsumption\",\"FamilyHistoryAlzheimers\",\"HeadInjury\",\"Confusion\"]\n",
    "x=df[features]\n",
    "y=df[\"Diagnosis\"]\n",
    "print(x.head())"
   ]
  },
  {
   "cell_type": "code",
   "execution_count": 7,
   "metadata": {},
   "outputs": [],
   "source": [
    "scaler=StandardScaler()\n",
    "x_scaled=scaler.fit_transform(x)"
   ]
  },
  {
   "cell_type": "code",
   "execution_count": 8,
   "metadata": {},
   "outputs": [],
   "source": [
    "x_train,x_test,y_train,y_test=train_test_split(x,y,test_size=0.2,random_state=1)"
   ]
  },
  {
   "cell_type": "code",
   "execution_count": 9,
   "metadata": {},
   "outputs": [
    {
     "name": "stdout",
     "output_type": "stream",
     "text": [
      "Accuracy :  0.96\n",
      "Training Accuracy :  0.955\n"
     ]
    }
   ],
   "source": [
    "rf_model=RandomForestClassifier(n_estimators=100, random_state=1)\n",
    "rf_model.fit(x_train, y_train)\n",
    "\n",
    "y_pred_rf=rf_model.predict(x_test)\n",
    "print(\"Accuracy : \",accuracy_score(y_test,y_pred_rf))\n",
    "print(\"Training Accuracy : \",rf_model.score(x_train,y_train))"
   ]
  },
  {
   "cell_type": "code",
   "execution_count": 10,
   "metadata": {},
   "outputs": [],
   "source": [
    "import pickle\n",
    "filename=\"Alzheimer_prediction.sav\"\n",
    "pickle.dump(rf_model, open(filename,\"wb\"))\n",
    "loaded_model = pickle.load(open('heart_disease_model.sav', 'rb'))"
   ]
  },
  {
   "cell_type": "code",
   "execution_count": 11,
   "metadata": {},
   "outputs": [
    {
     "name": "stdout",
     "output_type": "stream",
     "text": [
      "Age\n",
      "Smoking\n",
      "AlcoholConsumption\n",
      "FamilyHistoryAlzheimers\n",
      "HeadInjury\n",
      "Confusion\n"
     ]
    }
   ],
   "source": [
    "for column in x.columns:\n",
    "  print(column)"
   ]
  }
 ],
 "metadata": {
  "kernelspec": {
   "display_name": "Python 3",
   "language": "python",
   "name": "python3"
  },
  "language_info": {
   "codemirror_mode": {
    "name": "ipython",
    "version": 3
   },
   "file_extension": ".py",
   "mimetype": "text/x-python",
   "name": "python",
   "nbconvert_exporter": "python",
   "pygments_lexer": "ipython3",
   "version": "3.11.9"
  }
 },
 "nbformat": 4,
 "nbformat_minor": 2
}
